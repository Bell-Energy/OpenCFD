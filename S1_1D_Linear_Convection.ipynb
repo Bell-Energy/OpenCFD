# -*- coding: utf-8 -*-
"""
Created on Tue Apr 18 11:30:07 2017

@author: Amey Kulkarni
"""

import numpy
from matplotlib import pyplot
import time, sys

#%matplotlib inline

nx = 41
dx = 2 / (nx-1)
nt = 25
dt = 0.025
c = 1

u=numpy.ones(nx)
u[int(0.5/dx):int(1/dx+1)]=2
print(u)
pyplot.plot(numpy.linspace(0,2,nx),u);
           
un=numpy.ones(nx)
for n in range(nt):
    un=u.copy()
    for i in range(1,nx):
        u[i]=un[i]-c*dt/dx * (un[i]-un[i-1])
        
pyplot.plot(numpy.linspace(0,2,nx),u);
          
